{
 "cells": [
  {
   "cell_type": "code",
   "execution_count": null,
   "id": "dfd4d20f",
   "metadata": {},
   "outputs": [
    {
     "name": "stdout",
     "output_type": "stream",
     "text": [
      " * Serving Flask app \"__main__\" (lazy loading)\n",
      " * Environment: production\n",
      "\u001b[31m   WARNING: This is a development server. Do not use it in a production deployment.\u001b[0m\n",
      "\u001b[2m   Use a production WSGI server instead.\u001b[0m\n",
      " * Debug mode: off\n"
     ]
    },
    {
     "name": "stderr",
     "output_type": "stream",
     "text": [
      " * Running on http://127.0.0.1:5000/ (Press CTRL+C to quit)\n",
      "127.0.0.1 - - [14/Nov/2022 19:28:35] \"GET / HTTP/1.1\" 200 -\n",
      "127.0.0.1 - - [14/Nov/2022 19:28:35] \"GET /Flask/static/style.css HTTP/1.1\" 404 -\n",
      "127.0.0.1 - - [14/Nov/2022 19:28:35] \"GET /favicon.ico HTTP/1.1\" 404 -\n",
      "127.0.0.1 - - [14/Nov/2022 19:28:39] \"GET /upload.html HTTP/1.1\" 200 -\n"
     ]
    },
    {
     "name": "stdout",
     "output_type": "stream",
     "text": [
      "[INFO] loading model...\n"
     ]
    },
    {
     "name": "stderr",
     "output_type": "stream",
     "text": [
      "127.0.0.1 - - [14/Nov/2022 19:29:32] \"POST /predict HTTP/1.1\" 200 -\n"
     ]
    },
    {
     "name": "stdout",
     "output_type": "stream",
     "text": [
      "[array([  1.,   1.,   5.,   1., 146.,  87.,   1.])]\n",
      "284.0\n"
     ]
    },
    {
     "name": "stderr",
     "output_type": "stream",
     "text": [
      "127.0.0.1 - - [14/Nov/2022 19:30:22] \"POST /predict HTTP/1.1\" 200 -\n"
     ]
    },
    {
     "name": "stdout",
     "output_type": "stream",
     "text": [
      "[INFO] loading model...\n",
      "[array([  1.,   1.,   5.,   1., 146.,  87.,   1.])]\n",
      "284.0\n"
     ]
    }
   ],
   "source": [
    "# import the necessary packages\n",
    "import pandas as pd\n",
    "import numpy as np\n",
    "import pickle\n",
    "import os\n",
    "from flask import Flask,request, render_template\n",
    "app=Flask(__name__,template_folder=\"templates\")\n",
    "@app.route('/', methods=['GET'])\n",
    "def index():\n",
    "    return render_template('home.html')\n",
    "@app.route('/home.html', methods=['GET'])\n",
    "def about():\n",
    "    return render_template('home.html')\n",
    "@app.route('/upload.html',methods=['GET'])\n",
    "def page():\n",
    "    return render_template('upload.html')\n",
    "@app.route('/predict', methods=['GET', 'POST'])\n",
    "def predict():\n",
    "    print(\"[INFO] loading model...\")\n",
    "    model = pickle.load(open('fdemand.pkl', 'rb'))\n",
    "    input_features = [float(x) for x in request.form.values()]\n",
    "    features_value = [np.array(input_features)]\n",
    "    print(features_value)\n",
    "    \n",
    "    features_name = ['homepage_featured', 'emailer_for_promotion', 'op_area', 'cuisine',\n",
    "       'city_code', 'region_code', 'category']\n",
    "    prediction = model.predict(features_value)\n",
    "    output=prediction[0]    \n",
    "    print(output)\n",
    "    return render_template('upload.html', prediction_text=output)\n",
    "\n",
    "    \n",
    "if __name__ == '__main__':\n",
    "      app.run(debug=False)"
   ]
  },
  {
   "cell_type": "code",
   "execution_count": null,
   "id": "9ff34e00",
   "metadata": {},
   "outputs": [],
   "source": []
  }
 ],
 "metadata": {
  "kernelspec": {
   "display_name": "Python 3 (ipykernel)",
   "language": "python",
   "name": "python3"
  },
  "language_info": {
   "codemirror_mode": {
    "name": "ipython",
    "version": 3
   },
   "file_extension": ".py",
   "mimetype": "text/x-python",
   "name": "python",
   "nbconvert_exporter": "python",
   "pygments_lexer": "ipython3",
   "version": "3.9.13"
  }
 },
 "nbformat": 4,
 "nbformat_minor": 5
}
